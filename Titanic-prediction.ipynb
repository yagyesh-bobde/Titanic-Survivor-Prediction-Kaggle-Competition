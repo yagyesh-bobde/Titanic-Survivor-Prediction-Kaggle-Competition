{
 "cells": [
  {
   "cell_type": "code",
   "execution_count": 1,
   "id": "6303301f-2a30-475c-b069-f3b067c1beec",
   "metadata": {},
   "outputs": [
    {
     "name": "stdout",
     "output_type": "stream",
     "text": [
      "Warning: Your Kaggle API key is readable by other users on this system! To fix this, you can run 'chmod 600 /Users/pranavbobde/.kaggle/kaggle.json'\n"
     ]
    }
   ],
   "source": [
    "import kaggle\n",
    "import zipfile\n",
    "import os\n",
    "import pandas as pd \n",
    "import numpy as np\n",
    "import matplotlib.pyplot as plt\n",
    "import seaborn as sns\n",
    "%matplotlib inline"
   ]
  },
  {
   "cell_type": "code",
   "execution_count": 2,
   "id": "7ebbd0de-d7f0-44d3-8de5-51b03f62d4e4",
   "metadata": {},
   "outputs": [
    {
     "name": "stdout",
     "output_type": "stream",
     "text": [
      "Warning: Your Kaggle API key is readable by other users on this system! To fix this, you can run 'chmod 600 /Users/pranavbobde/.kaggle/kaggle.json'\n",
      "Downloading titanic.zip to /Users/pranavbobde/Desktop/Titanic Survivor Prediction Competition Kaggle\n",
      "  0%|                                               | 0.00/34.1k [00:00<?, ?B/s]\n",
      "100%|██████████████████████████████████████| 34.1k/34.1k [00:00<00:00, 1.01MB/s]\n"
     ]
    }
   ],
   "source": [
    "!kaggle competitions download -c titanic"
   ]
  },
  {
   "cell_type": "code",
   "execution_count": 4,
   "id": "baa9008f-c18c-47df-b9ab-23f0eb4c37b9",
   "metadata": {},
   "outputs": [],
   "source": [
    "with zipfile.ZipFile('titanic.zip' , 'r') as file:\n",
    "    file.extractall('data')"
   ]
  },
  {
   "cell_type": "code",
   "execution_count": 9,
   "id": "37096b5f-b970-4233-bb94-9968e8c07089",
   "metadata": {},
   "outputs": [
    {
     "data": {
      "text/plain": [
       "['test.csv', 'train.csv', 'gender_submission.csv']"
      ]
     },
     "execution_count": 9,
     "metadata": {},
     "output_type": "execute_result"
    }
   ],
   "source": [
    "os.listdir('data/')"
   ]
  },
  {
   "cell_type": "code",
   "execution_count": 2,
   "id": "21486bb2-8483-46d8-a485-c3a9e1c4c4ff",
   "metadata": {},
   "outputs": [],
   "source": [
    "train_df = pd.read_csv('data/train.csv' , index_col='PassengerId')\n",
    "test_df = pd.read_csv('data/test.csv' , index_col='PassengerId')\n",
    "sample= pd.read_csv('data/gender_submission.csv')"
   ]
  },
  {
   "cell_type": "code",
   "execution_count": 3,
   "id": "2ebb24ed-1060-40c1-8865-fcdd7f2fdd4d",
   "metadata": {},
   "outputs": [
    {
     "data": {
      "text/html": [
       "<div>\n",
       "<style scoped>\n",
       "    .dataframe tbody tr th:only-of-type {\n",
       "        vertical-align: middle;\n",
       "    }\n",
       "\n",
       "    .dataframe tbody tr th {\n",
       "        vertical-align: top;\n",
       "    }\n",
       "\n",
       "    .dataframe thead th {\n",
       "        text-align: right;\n",
       "    }\n",
       "</style>\n",
       "<table border=\"1\" class=\"dataframe\">\n",
       "  <thead>\n",
       "    <tr style=\"text-align: right;\">\n",
       "      <th></th>\n",
       "      <th>Survived</th>\n",
       "      <th>Pclass</th>\n",
       "      <th>Name</th>\n",
       "      <th>Sex</th>\n",
       "      <th>Age</th>\n",
       "      <th>SibSp</th>\n",
       "      <th>Parch</th>\n",
       "      <th>Ticket</th>\n",
       "      <th>Fare</th>\n",
       "      <th>Cabin</th>\n",
       "      <th>Embarked</th>\n",
       "    </tr>\n",
       "    <tr>\n",
       "      <th>PassengerId</th>\n",
       "      <th></th>\n",
       "      <th></th>\n",
       "      <th></th>\n",
       "      <th></th>\n",
       "      <th></th>\n",
       "      <th></th>\n",
       "      <th></th>\n",
       "      <th></th>\n",
       "      <th></th>\n",
       "      <th></th>\n",
       "      <th></th>\n",
       "    </tr>\n",
       "  </thead>\n",
       "  <tbody>\n",
       "    <tr>\n",
       "      <th>1</th>\n",
       "      <td>0</td>\n",
       "      <td>3</td>\n",
       "      <td>Braund, Mr. Owen Harris</td>\n",
       "      <td>male</td>\n",
       "      <td>22.0</td>\n",
       "      <td>1</td>\n",
       "      <td>0</td>\n",
       "      <td>A/5 21171</td>\n",
       "      <td>7.2500</td>\n",
       "      <td>NaN</td>\n",
       "      <td>S</td>\n",
       "    </tr>\n",
       "    <tr>\n",
       "      <th>2</th>\n",
       "      <td>1</td>\n",
       "      <td>1</td>\n",
       "      <td>Cumings, Mrs. John Bradley (Florence Briggs Th...</td>\n",
       "      <td>female</td>\n",
       "      <td>38.0</td>\n",
       "      <td>1</td>\n",
       "      <td>0</td>\n",
       "      <td>PC 17599</td>\n",
       "      <td>71.2833</td>\n",
       "      <td>C85</td>\n",
       "      <td>C</td>\n",
       "    </tr>\n",
       "    <tr>\n",
       "      <th>3</th>\n",
       "      <td>1</td>\n",
       "      <td>3</td>\n",
       "      <td>Heikkinen, Miss. Laina</td>\n",
       "      <td>female</td>\n",
       "      <td>26.0</td>\n",
       "      <td>0</td>\n",
       "      <td>0</td>\n",
       "      <td>STON/O2. 3101282</td>\n",
       "      <td>7.9250</td>\n",
       "      <td>NaN</td>\n",
       "      <td>S</td>\n",
       "    </tr>\n",
       "    <tr>\n",
       "      <th>4</th>\n",
       "      <td>1</td>\n",
       "      <td>1</td>\n",
       "      <td>Futrelle, Mrs. Jacques Heath (Lily May Peel)</td>\n",
       "      <td>female</td>\n",
       "      <td>35.0</td>\n",
       "      <td>1</td>\n",
       "      <td>0</td>\n",
       "      <td>113803</td>\n",
       "      <td>53.1000</td>\n",
       "      <td>C123</td>\n",
       "      <td>S</td>\n",
       "    </tr>\n",
       "    <tr>\n",
       "      <th>5</th>\n",
       "      <td>0</td>\n",
       "      <td>3</td>\n",
       "      <td>Allen, Mr. William Henry</td>\n",
       "      <td>male</td>\n",
       "      <td>35.0</td>\n",
       "      <td>0</td>\n",
       "      <td>0</td>\n",
       "      <td>373450</td>\n",
       "      <td>8.0500</td>\n",
       "      <td>NaN</td>\n",
       "      <td>S</td>\n",
       "    </tr>\n",
       "    <tr>\n",
       "      <th>...</th>\n",
       "      <td>...</td>\n",
       "      <td>...</td>\n",
       "      <td>...</td>\n",
       "      <td>...</td>\n",
       "      <td>...</td>\n",
       "      <td>...</td>\n",
       "      <td>...</td>\n",
       "      <td>...</td>\n",
       "      <td>...</td>\n",
       "      <td>...</td>\n",
       "      <td>...</td>\n",
       "    </tr>\n",
       "    <tr>\n",
       "      <th>887</th>\n",
       "      <td>0</td>\n",
       "      <td>2</td>\n",
       "      <td>Montvila, Rev. Juozas</td>\n",
       "      <td>male</td>\n",
       "      <td>27.0</td>\n",
       "      <td>0</td>\n",
       "      <td>0</td>\n",
       "      <td>211536</td>\n",
       "      <td>13.0000</td>\n",
       "      <td>NaN</td>\n",
       "      <td>S</td>\n",
       "    </tr>\n",
       "    <tr>\n",
       "      <th>888</th>\n",
       "      <td>1</td>\n",
       "      <td>1</td>\n",
       "      <td>Graham, Miss. Margaret Edith</td>\n",
       "      <td>female</td>\n",
       "      <td>19.0</td>\n",
       "      <td>0</td>\n",
       "      <td>0</td>\n",
       "      <td>112053</td>\n",
       "      <td>30.0000</td>\n",
       "      <td>B42</td>\n",
       "      <td>S</td>\n",
       "    </tr>\n",
       "    <tr>\n",
       "      <th>889</th>\n",
       "      <td>0</td>\n",
       "      <td>3</td>\n",
       "      <td>Johnston, Miss. Catherine Helen \"Carrie\"</td>\n",
       "      <td>female</td>\n",
       "      <td>NaN</td>\n",
       "      <td>1</td>\n",
       "      <td>2</td>\n",
       "      <td>W./C. 6607</td>\n",
       "      <td>23.4500</td>\n",
       "      <td>NaN</td>\n",
       "      <td>S</td>\n",
       "    </tr>\n",
       "    <tr>\n",
       "      <th>890</th>\n",
       "      <td>1</td>\n",
       "      <td>1</td>\n",
       "      <td>Behr, Mr. Karl Howell</td>\n",
       "      <td>male</td>\n",
       "      <td>26.0</td>\n",
       "      <td>0</td>\n",
       "      <td>0</td>\n",
       "      <td>111369</td>\n",
       "      <td>30.0000</td>\n",
       "      <td>C148</td>\n",
       "      <td>C</td>\n",
       "    </tr>\n",
       "    <tr>\n",
       "      <th>891</th>\n",
       "      <td>0</td>\n",
       "      <td>3</td>\n",
       "      <td>Dooley, Mr. Patrick</td>\n",
       "      <td>male</td>\n",
       "      <td>32.0</td>\n",
       "      <td>0</td>\n",
       "      <td>0</td>\n",
       "      <td>370376</td>\n",
       "      <td>7.7500</td>\n",
       "      <td>NaN</td>\n",
       "      <td>Q</td>\n",
       "    </tr>\n",
       "  </tbody>\n",
       "</table>\n",
       "<p>891 rows × 11 columns</p>\n",
       "</div>"
      ],
      "text/plain": [
       "             Survived  Pclass  \\\n",
       "PassengerId                     \n",
       "1                   0       3   \n",
       "2                   1       1   \n",
       "3                   1       3   \n",
       "4                   1       1   \n",
       "5                   0       3   \n",
       "...               ...     ...   \n",
       "887                 0       2   \n",
       "888                 1       1   \n",
       "889                 0       3   \n",
       "890                 1       1   \n",
       "891                 0       3   \n",
       "\n",
       "                                                          Name     Sex   Age  \\\n",
       "PassengerId                                                                    \n",
       "1                                      Braund, Mr. Owen Harris    male  22.0   \n",
       "2            Cumings, Mrs. John Bradley (Florence Briggs Th...  female  38.0   \n",
       "3                                       Heikkinen, Miss. Laina  female  26.0   \n",
       "4                 Futrelle, Mrs. Jacques Heath (Lily May Peel)  female  35.0   \n",
       "5                                     Allen, Mr. William Henry    male  35.0   \n",
       "...                                                        ...     ...   ...   \n",
       "887                                      Montvila, Rev. Juozas    male  27.0   \n",
       "888                               Graham, Miss. Margaret Edith  female  19.0   \n",
       "889                   Johnston, Miss. Catherine Helen \"Carrie\"  female   NaN   \n",
       "890                                      Behr, Mr. Karl Howell    male  26.0   \n",
       "891                                        Dooley, Mr. Patrick    male  32.0   \n",
       "\n",
       "             SibSp  Parch            Ticket     Fare Cabin Embarked  \n",
       "PassengerId                                                          \n",
       "1                1      0         A/5 21171   7.2500   NaN        S  \n",
       "2                1      0          PC 17599  71.2833   C85        C  \n",
       "3                0      0  STON/O2. 3101282   7.9250   NaN        S  \n",
       "4                1      0            113803  53.1000  C123        S  \n",
       "5                0      0            373450   8.0500   NaN        S  \n",
       "...            ...    ...               ...      ...   ...      ...  \n",
       "887              0      0            211536  13.0000   NaN        S  \n",
       "888              0      0            112053  30.0000   B42        S  \n",
       "889              1      2        W./C. 6607  23.4500   NaN        S  \n",
       "890              0      0            111369  30.0000  C148        C  \n",
       "891              0      0            370376   7.7500   NaN        Q  \n",
       "\n",
       "[891 rows x 11 columns]"
      ]
     },
     "execution_count": 3,
     "metadata": {},
     "output_type": "execute_result"
    }
   ],
   "source": [
    "train_df"
   ]
  },
  {
   "cell_type": "code",
   "execution_count": 4,
   "id": "9ca1ef04-eff9-4580-9ab7-b19f5f396b8d",
   "metadata": {},
   "outputs": [
    {
     "data": {
      "text/plain": [
       "((891, 11), (418, 10))"
      ]
     },
     "execution_count": 4,
     "metadata": {},
     "output_type": "execute_result"
    }
   ],
   "source": [
    "train_df.shape , test_df.shape"
   ]
  },
  {
   "cell_type": "code",
   "execution_count": 5,
   "id": "2eda0bec",
   "metadata": {},
   "outputs": [
    {
     "data": {
      "text/html": [
       "<div>\n",
       "<style scoped>\n",
       "    .dataframe tbody tr th:only-of-type {\n",
       "        vertical-align: middle;\n",
       "    }\n",
       "\n",
       "    .dataframe tbody tr th {\n",
       "        vertical-align: top;\n",
       "    }\n",
       "\n",
       "    .dataframe thead th {\n",
       "        text-align: right;\n",
       "    }\n",
       "</style>\n",
       "<table border=\"1\" class=\"dataframe\">\n",
       "  <thead>\n",
       "    <tr style=\"text-align: right;\">\n",
       "      <th></th>\n",
       "      <th>Survived</th>\n",
       "      <th>Pclass</th>\n",
       "      <th>Age</th>\n",
       "      <th>SibSp</th>\n",
       "      <th>Parch</th>\n",
       "      <th>Fare</th>\n",
       "    </tr>\n",
       "  </thead>\n",
       "  <tbody>\n",
       "    <tr>\n",
       "      <th>count</th>\n",
       "      <td>891.000000</td>\n",
       "      <td>891.000000</td>\n",
       "      <td>714.000000</td>\n",
       "      <td>891.000000</td>\n",
       "      <td>891.000000</td>\n",
       "      <td>891.000000</td>\n",
       "    </tr>\n",
       "    <tr>\n",
       "      <th>mean</th>\n",
       "      <td>0.383838</td>\n",
       "      <td>2.308642</td>\n",
       "      <td>29.699118</td>\n",
       "      <td>0.523008</td>\n",
       "      <td>0.381594</td>\n",
       "      <td>32.204208</td>\n",
       "    </tr>\n",
       "    <tr>\n",
       "      <th>std</th>\n",
       "      <td>0.486592</td>\n",
       "      <td>0.836071</td>\n",
       "      <td>14.526497</td>\n",
       "      <td>1.102743</td>\n",
       "      <td>0.806057</td>\n",
       "      <td>49.693429</td>\n",
       "    </tr>\n",
       "    <tr>\n",
       "      <th>min</th>\n",
       "      <td>0.000000</td>\n",
       "      <td>1.000000</td>\n",
       "      <td>0.420000</td>\n",
       "      <td>0.000000</td>\n",
       "      <td>0.000000</td>\n",
       "      <td>0.000000</td>\n",
       "    </tr>\n",
       "    <tr>\n",
       "      <th>25%</th>\n",
       "      <td>0.000000</td>\n",
       "      <td>2.000000</td>\n",
       "      <td>20.125000</td>\n",
       "      <td>0.000000</td>\n",
       "      <td>0.000000</td>\n",
       "      <td>7.910400</td>\n",
       "    </tr>\n",
       "    <tr>\n",
       "      <th>50%</th>\n",
       "      <td>0.000000</td>\n",
       "      <td>3.000000</td>\n",
       "      <td>28.000000</td>\n",
       "      <td>0.000000</td>\n",
       "      <td>0.000000</td>\n",
       "      <td>14.454200</td>\n",
       "    </tr>\n",
       "    <tr>\n",
       "      <th>75%</th>\n",
       "      <td>1.000000</td>\n",
       "      <td>3.000000</td>\n",
       "      <td>38.000000</td>\n",
       "      <td>1.000000</td>\n",
       "      <td>0.000000</td>\n",
       "      <td>31.000000</td>\n",
       "    </tr>\n",
       "    <tr>\n",
       "      <th>max</th>\n",
       "      <td>1.000000</td>\n",
       "      <td>3.000000</td>\n",
       "      <td>80.000000</td>\n",
       "      <td>8.000000</td>\n",
       "      <td>6.000000</td>\n",
       "      <td>512.329200</td>\n",
       "    </tr>\n",
       "  </tbody>\n",
       "</table>\n",
       "</div>"
      ],
      "text/plain": [
       "         Survived      Pclass         Age       SibSp       Parch        Fare\n",
       "count  891.000000  891.000000  714.000000  891.000000  891.000000  891.000000\n",
       "mean     0.383838    2.308642   29.699118    0.523008    0.381594   32.204208\n",
       "std      0.486592    0.836071   14.526497    1.102743    0.806057   49.693429\n",
       "min      0.000000    1.000000    0.420000    0.000000    0.000000    0.000000\n",
       "25%      0.000000    2.000000   20.125000    0.000000    0.000000    7.910400\n",
       "50%      0.000000    3.000000   28.000000    0.000000    0.000000   14.454200\n",
       "75%      1.000000    3.000000   38.000000    1.000000    0.000000   31.000000\n",
       "max      1.000000    3.000000   80.000000    8.000000    6.000000  512.329200"
      ]
     },
     "execution_count": 5,
     "metadata": {},
     "output_type": "execute_result"
    }
   ],
   "source": [
    "train_df.describe()"
   ]
  },
  {
   "cell_type": "code",
   "execution_count": 6,
   "id": "8ddb1f94",
   "metadata": {},
   "outputs": [
    {
     "name": "stdout",
     "output_type": "stream",
     "text": [
      "<class 'pandas.core.frame.DataFrame'>\n",
      "Int64Index: 891 entries, 1 to 891\n",
      "Data columns (total 11 columns):\n",
      " #   Column    Non-Null Count  Dtype  \n",
      "---  ------    --------------  -----  \n",
      " 0   Survived  891 non-null    int64  \n",
      " 1   Pclass    891 non-null    int64  \n",
      " 2   Name      891 non-null    object \n",
      " 3   Sex       891 non-null    object \n",
      " 4   Age       714 non-null    float64\n",
      " 5   SibSp     891 non-null    int64  \n",
      " 6   Parch     891 non-null    int64  \n",
      " 7   Ticket    891 non-null    object \n",
      " 8   Fare      891 non-null    float64\n",
      " 9   Cabin     204 non-null    object \n",
      " 10  Embarked  889 non-null    object \n",
      "dtypes: float64(2), int64(4), object(5)\n",
      "memory usage: 83.5+ KB\n"
     ]
    }
   ],
   "source": [
    "train_df.info()"
   ]
  },
  {
   "cell_type": "code",
   "execution_count": 7,
   "id": "b2a1507a",
   "metadata": {},
   "outputs": [],
   "source": [
    "inputs = train_df.drop('Survived' ,axis=1)\n",
    "targets = train_df.Survived"
   ]
  },
  {
   "cell_type": "code",
   "execution_count": 9,
   "id": "85549594",
   "metadata": {},
   "outputs": [],
   "source": [
    "num_cols = inputs.select_dtypes(include = ['int', 'float']).columns"
   ]
  },
  {
   "cell_type": "code",
   "execution_count": 10,
   "id": "d765a8ae",
   "metadata": {},
   "outputs": [
    {
     "data": {
      "text/plain": [
       "Index(['Pclass', 'Age', 'SibSp', 'Parch', 'Fare'], dtype='object')"
      ]
     },
     "execution_count": 10,
     "metadata": {},
     "output_type": "execute_result"
    }
   ],
   "source": [
    "num_cols"
   ]
  },
  {
   "cell_type": "code",
   "execution_count": 13,
   "id": "86c3120a",
   "metadata": {},
   "outputs": [
    {
     "data": {
      "text/plain": [
       "24.00    30\n",
       "22.00    27\n",
       "18.00    26\n",
       "19.00    25\n",
       "28.00    25\n",
       "         ..\n",
       "36.50     1\n",
       "55.50     1\n",
       "0.92      1\n",
       "23.50     1\n",
       "74.00     1\n",
       "Name: Age, Length: 88, dtype: int64"
      ]
     },
     "execution_count": 13,
     "metadata": {},
     "output_type": "execute_result"
    }
   ],
   "source": [
    "inputs.Age.value_counts()"
   ]
  },
  {
   "cell_type": "code",
   "execution_count": 25,
   "id": "fc6799be",
   "metadata": {},
   "outputs": [
    {
     "data": {
      "text/plain": [
       "<AxesSubplot:xlabel='count', ylabel='Age'>"
      ]
     },
     "execution_count": 25,
     "metadata": {},
     "output_type": "execute_result"
    },
    {
     "data": {
      "image/png": "[encoded data removed]",
      "text/plain": [
       "<Figure size 864x864 with 1 Axes>"
      ]
     },
     "metadata": {
      "needs_background": "light"
     },
     "output_type": "display_data"
    }
   ],
   "source": [
    "plt.figure(figsize=(12 , 12))\n",
    "sns.countplot(y='Age',data=inputs)"
   ]
  },
  {
   "cell_type": "code",
   "execution_count": 26,
   "id": "e073b74a",
   "metadata": {},
   "outputs": [
    {
     "data": {
      "text/html": [
       "<div>\n",
       "<style scoped>\n",
       "    .dataframe tbody tr th:only-of-type {\n",
       "        vertical-align: middle;\n",
       "    }\n",
       "\n",
       "    .dataframe tbody tr th {\n",
       "        vertical-align: top;\n",
       "    }\n",
       "\n",
       "    .dataframe thead th {\n",
       "        text-align: right;\n",
       "    }\n",
       "</style>\n",
       "<table border=\"1\" class=\"dataframe\">\n",
       "  <thead>\n",
       "    <tr style=\"text-align: right;\">\n",
       "      <th></th>\n",
       "      <th>Pclass</th>\n",
       "      <th>Age</th>\n",
       "      <th>SibSp</th>\n",
       "      <th>Parch</th>\n",
       "      <th>Fare</th>\n",
       "    </tr>\n",
       "  </thead>\n",
       "  <tbody>\n",
       "    <tr>\n",
       "      <th>Pclass</th>\n",
       "      <td>1.000000</td>\n",
       "      <td>-0.369226</td>\n",
       "      <td>0.083081</td>\n",
       "      <td>0.018443</td>\n",
       "      <td>-0.549500</td>\n",
       "    </tr>\n",
       "    <tr>\n",
       "      <th>Age</th>\n",
       "      <td>-0.369226</td>\n",
       "      <td>1.000000</td>\n",
       "      <td>-0.308247</td>\n",
       "      <td>-0.189119</td>\n",
       "      <td>0.096067</td>\n",
       "    </tr>\n",
       "    <tr>\n",
       "      <th>SibSp</th>\n",
       "      <td>0.083081</td>\n",
       "      <td>-0.308247</td>\n",
       "      <td>1.000000</td>\n",
       "      <td>0.414838</td>\n",
       "      <td>0.159651</td>\n",
       "    </tr>\n",
       "    <tr>\n",
       "      <th>Parch</th>\n",
       "      <td>0.018443</td>\n",
       "      <td>-0.189119</td>\n",
       "      <td>0.414838</td>\n",
       "      <td>1.000000</td>\n",
       "      <td>0.216225</td>\n",
       "    </tr>\n",
       "    <tr>\n",
       "      <th>Fare</th>\n",
       "      <td>-0.549500</td>\n",
       "      <td>0.096067</td>\n",
       "      <td>0.159651</td>\n",
       "      <td>0.216225</td>\n",
       "      <td>1.000000</td>\n",
       "    </tr>\n",
       "  </tbody>\n",
       "</table>\n",
       "</div>"
      ],
      "text/plain": [
       "          Pclass       Age     SibSp     Parch      Fare\n",
       "Pclass  1.000000 -0.369226  0.083081  0.018443 -0.549500\n",
       "Age    -0.369226  1.000000 -0.308247 -0.189119  0.096067\n",
       "SibSp   0.083081 -0.308247  1.000000  0.414838  0.159651\n",
       "Parch   0.018443 -0.189119  0.414838  1.000000  0.216225\n",
       "Fare   -0.549500  0.096067  0.159651  0.216225  1.000000"
      ]
     },
     "execution_count": 26,
     "metadata": {},
     "output_type": "execute_result"
    }
   ],
   "source": [
    "inputs.corr()"
   ]
  },
  {
   "cell_type": "code",
   "execution_count": 29,
   "id": "511ad740",
   "metadata": {},
   "outputs": [
    {
     "data": {
      "text/plain": [
       "<AxesSubplot:>"
      ]
     },
     "execution_count": 29,
     "metadata": {},
     "output_type": "execute_result"
    },
    {
     "data": {
      "image/png": "[encoded data removed]",
      "text/plain": [
       "<Figure size 720x720 with 2 Axes>"
      ]
     },
     "metadata": {
      "needs_background": "light"
     },
     "output_type": "display_data"
    }
   ],
   "source": [
    "plt.figure(figsize=(10,10))\n",
    "sns.heatmap(train_df.corr())"
   ]
  },
  {
   "cell_type": "code",
   "execution_count": 40,
   "id": "60e3d7ee",
   "metadata": {},
   "outputs": [
    {
     "name": "stdout",
     "output_type": "stream",
     "text": [
      "<class 'pandas.core.frame.DataFrame'>\n",
      "Int64Index: 891 entries, 1 to 891\n",
      "Data columns (total 5 columns):\n",
      " #   Column  Non-Null Count  Dtype  \n",
      "---  ------  --------------  -----  \n",
      " 0   Pclass  891 non-null    int64  \n",
      " 1   Age     714 non-null    float64\n",
      " 2   SibSp   891 non-null    int64  \n",
      " 3   Parch   891 non-null    int64  \n",
      " 4   Fare    891 non-null    float64\n",
      "dtypes: float64(2), int64(3)\n",
      "memory usage: 74.1 KB\n"
     ]
    }
   ],
   "source": [
    "inputs[num_cols].info()"
   ]
  },
  {
   "cell_type": "code",
   "execution_count": 47,
   "id": "fc9512a0",
   "metadata": {},
   "outputs": [
    {
     "data": {
      "text/plain": [
       "(891,)"
      ]
     },
     "execution_count": 47,
     "metadata": {},
     "output_type": "execute_result"
    }
   ],
   "source": [
    "targets.shape"
   ]
  },
  {
   "cell_type": "code",
   "execution_count": 30,
   "id": "5506e7f1",
   "metadata": {},
   "outputs": [],
   "source": [
    "# ML imports \n",
    "import sklearn\n",
    "from sklearn.model_selection import train_test_split\n",
    "from sklearn.linear_model import LogisticRegression"
   ]
  },
  {
   "cell_type": "code",
   "execution_count": 49,
   "id": "5a5efec2",
   "metadata": {},
   "outputs": [],
   "source": [
    "train_inputs , val_inputs , train_targets ,val_targets = train_test_split(inputs[num_cols].fillna(method='ffill') , targets , test_size=0.1 , random_state=1)"
   ]
  },
  {
   "cell_type": "code",
   "execution_count": 50,
   "id": "5e01fb04",
   "metadata": {},
   "outputs": [
    {
     "data": {
      "text/plain": [
       "((801, 5), (801,))"
      ]
     },
     "execution_count": 50,
     "metadata": {},
     "output_type": "execute_result"
    }
   ],
   "source": [
    "train_inputs.shape , train_targets.shape"
   ]
  },
  {
   "cell_type": "code",
   "execution_count": 51,
   "id": "19caa882",
   "metadata": {},
   "outputs": [
    {
     "name": "stdout",
     "output_type": "stream",
     "text": [
      "71.11\n"
     ]
    }
   ],
   "source": [
    "logreg = LogisticRegression(random_state=1)\n",
    "logreg.fit(train_inputs, train_targets)\n",
    "acc_log = round(logreg.score(val_inputs, val_targets) * 100, 2)\n",
    "print(acc_log)"
   ]
  },
  {
   "cell_type": "code",
   "execution_count": 58,
   "id": "51b36e42",
   "metadata": {},
   "outputs": [
    {
     "data": {
      "text/plain": [
       "0    61.616162\n",
       "1    38.383838\n",
       "Name: Survived, dtype: float64"
      ]
     },
     "execution_count": 58,
     "metadata": {},
     "output_type": "execute_result"
    }
   ],
   "source": [
    "(targets.value_counts()/targets.size)*100"
   ]
  },
  {
   "cell_type": "code",
   "execution_count": 62,
   "id": "308f98d9",
   "metadata": {},
   "outputs": [],
   "source": [
    "preds = logreg.predict(test_df[num_cols].fillna(method='ffill'))"
   ]
  },
  {
   "cell_type": "code",
   "execution_count": 70,
   "id": "3a846fbb",
   "metadata": {},
   "outputs": [],
   "source": [
    "submit = pd.DataFrame({'PassengerId':test_df.index ,\n",
    "                      'Survived':preds})\n",
    "submit.to_csv('./submission_csv')"
   ]
  },
  {
   "cell_type": "code",
   "execution_count": 71,
   "id": "7cda9e8e",
   "metadata": {
    "scrolled": true
   },
   "outputs": [
    {
     "data": {
      "text/plain": [
       "['.DS_Store',\n",
       " 'Titanic-prediction.ipynb',\n",
       " 'README.md',\n",
       " '.gitignore',\n",
       " 'submission_csv',\n",
       " 'titanic.zip',\n",
       " '.ipynb_checkpoints',\n",
       " '.git',\n",
       " 'data']"
      ]
     },
     "execution_count": 71,
     "metadata": {},
     "output_type": "execute_result"
    }
   ],
   "source": [
    "os.listdir()"
   ]
  },
  {
   "cell_type": "code",
   "execution_count": 72,
   "id": "2259571e",
   "metadata": {},
   "outputs": [
    {
     "data": {
      "text/plain": [
       "',PassengerId,Survived\\n0,892,0\\n1,893,0\\n2,894,0\\n3,895,0\\n4,896,0\\n5,897,0\\n6,898,0\\n7,899,0\\n8,900,0\\n9,901,0\\n10,902,0\\n11,903,1\\n12,904,1\\n13,905,0\\n14,906,1\\n15,907,0\\n16,908,0\\n17,909,0\\n18,910,0\\n19,911,0\\n20,912,0\\n21,913,0\\n22,914,1\\n23,915,1\\n24,916,1\\n25,917,0\\n26,918,1\\n27,919,0\\n28,920,1\\n29,921,0\\n30,922,0\\n31,923,0\\n32,924,0\\n33,925,0\\n34,926,1\\n35,927,0\\n36,928,0\\n37,929,0\\n38,930,0\\n39,931,0\\n40,932,0\\n41,933,1\\n42,934,0\\n43,935,0\\n44,936,1\\n45,937,0\\n46,938,1\\n47,939,0\\n48,940,0\\n49,941,0\\n50,942,1\\n51,943,0\\n52,944,0\\n53,945,1\\n54,946,0\\n55,947,0\\n56,948,0\\n57,949,0\\n58,950,0\\n59,951,1\\n60,952,0\\n61,953,0\\n62,954,0\\n63,955,0\\n64,956,1\\n65,957,1\\n66,958,0\\n67,959,1\\n68,960,1\\n69,961,1\\n70,962,0\\n71,963,0\\n72,964,0\\n73,965,1\\n74,966,1\\n75,967,1\\n76,968,0\\n77,969,0\\n78,970,0\\n79,971,0\\n80,972,0\\n81,973,1\\n82,974,1\\n83,975,0\\n84,976,0\\n85,977,0\\n86,978,0\\n87,979,0\\n88,980,0\\n89,981,1\\n90,982,0\\n91,983,0\\n92,984,1\\n93,985,0\\n94,986,1\\n95,987,0\\n96,988,0\\n97,989,0\\n98,990,0\\n99,991,0\\n100,992,1\\n101,993,0\\n102,994,0\\n103,995,0\\n104,996,0\\n105,997,0\\n106,998,0\\n107,999,0\\n108,1000,0\\n109,1001,0\\n110,1002,0\\n111,1003,0\\n112,1004,1\\n113,1005,0\\n114,1006,1\\n115,1007,0\\n116,1008,0\\n117,1009,0\\n118,1010,1\\n119,1011,0\\n120,1012,1\\n121,1013,0\\n122,1014,1\\n123,1015,0\\n124,1016,0\\n125,1017,0\\n126,1018,0\\n127,1019,0\\n128,1020,0\\n129,1021,0\\n130,1022,0\\n131,1023,0\\n132,1024,0\\n133,1025,0\\n134,1026,0\\n135,1027,0\\n136,1028,0\\n137,1029,0\\n138,1030,0\\n139,1031,0\\n140,1032,0\\n141,1033,1\\n142,1034,1\\n143,1035,0\\n144,1036,1\\n145,1037,0\\n146,1038,1\\n147,1039,0\\n148,1040,1\\n149,1041,0\\n150,1042,1\\n151,1043,0\\n152,1044,0\\n153,1045,0\\n154,1046,0\\n155,1047,0\\n156,1048,1\\n157,1049,0\\n158,1050,1\\n159,1051,0\\n160,1052,0\\n161,1053,0\\n162,1054,0\\n163,1055,0\\n164,1056,0\\n165,1057,0\\n166,1058,1\\n167,1059,0\\n168,1060,1\\n169,1061,0\\n170,1062,0\\n171,1063,0\\n172,1064,0\\n173,1065,0\\n174,1066,0\\n175,1067,1\\n176,1068,1\\n177,1069,0\\n178,1070,1\\n179,1071,1\\n180,1072,0\\n181,1073,1\\n182,1074,1\\n183,1075,0\\n184,1076,1\\n185,1077,0\\n186,1078,1\\n187,1079,0\\n188,1080,0\\n189,1081,0\\n190,1082,0\\n191,1083,1\\n192,1084,0\\n193,1085,0\\n194,1086,1\\n195,1087,0\\n196,1088,1\\n197,1089,0\\n198,1090,0\\n199,1091,0\\n200,1092,0\\n201,1093,1\\n202,1094,1\\n203,1095,1\\n204,1096,0\\n205,1097,1\\n206,1098,0\\n207,1099,0\\n208,1100,1\\n209,1101,0\\n210,1102,0\\n211,1103,0\\n212,1104,1\\n213,1105,0\\n214,1106,0\\n215,1107,1\\n216,1108,0\\n217,1109,1\\n218,1110,1\\n219,1111,0\\n220,1112,0\\n221,1113,0\\n222,1114,0\\n223,1115,0\\n224,1116,0\\n225,1117,0\\n226,1118,0\\n227,1119,0\\n228,1120,0\\n229,1121,0\\n230,1122,1\\n231,1123,1\\n232,1124,0\\n233,1125,0\\n234,1126,1\\n235,1127,0\\n236,1128,0\\n237,1129,0\\n238,1130,1\\n239,1131,1\\n240,1132,0\\n241,1133,0\\n242,1134,1\\n243,1135,0\\n244,1136,0\\n245,1137,1\\n246,1138,0\\n247,1139,0\\n248,1140,0\\n249,1141,0\\n250,1142,1\\n251,1143,0\\n252,1144,1\\n253,1145,0\\n254,1146,0\\n255,1147,0\\n256,1148,0\\n257,1149,0\\n258,1150,0\\n259,1151,0\\n260,1152,0\\n261,1153,0\\n262,1154,1\\n263,1155,0\\n264,1156,0\\n265,1157,0\\n266,1158,1\\n267,1159,0\\n268,1160,0\\n269,1161,0\\n270,1162,1\\n271,1163,0\\n272,1164,1\\n273,1165,0\\n274,1166,0\\n275,1167,0\\n276,1168,0\\n277,1169,0\\n278,1170,0\\n279,1171,0\\n280,1172,0\\n281,1173,0\\n282,1174,0\\n283,1175,0\\n284,1176,0\\n285,1177,0\\n286,1178,0\\n287,1179,1\\n288,1180,0\\n289,1181,0\\n290,1182,1\\n291,1183,0\\n292,1184,0\\n293,1185,1\\n294,1186,0\\n295,1187,0\\n296,1188,1\\n297,1189,0\\n298,1190,1\\n299,1191,0\\n300,1192,0\\n301,1193,0\\n302,1194,0\\n303,1195,0\\n304,1196,0\\n305,1197,0\\n306,1198,1\\n307,1199,0\\n308,1200,1\\n309,1201,0\\n310,1202,0\\n311,1203,0\\n312,1204,0\\n313,1205,0\\n314,1206,1\\n315,1207,0\\n316,1208,1\\n317,1209,0\\n318,1210,0\\n319,1211,0\\n320,1212,0\\n321,1213,0\\n322,1214,0\\n323,1215,1\\n324,1216,1\\n325,1217,0\\n326,1218,1\\n327,1219,1\\n328,1220,0\\n329,1221,0\\n330,1222,0\\n331,1223,1\\n332,1224,0\\n333,1225,0\\n334,1226,0\\n335,1227,1\\n336,1228,0\\n337,1229,0\\n338,1230,0\\n339,1231,0\\n340,1232,0\\n341,1233,0\\n342,1234,1\\n343,1235,1\\n344,1236,0\\n345,1237,0\\n346,1238,0\\n347,1239,0\\n348,1240,0\\n349,1241,0\\n350,1242,1\\n351,1243,0\\n352,1244,1\\n353,1245,0\\n354,1246,0\\n355,1247,1\\n356,1248,0\\n357,1249,0\\n358,1250,0\\n359,1251,0\\n360,1252,0\\n361,1253,0\\n362,1254,0\\n363,1255,0\\n364,1256,1\\n365,1257,1\\n366,1258,0\\n367,1259,0\\n368,1260,1\\n369,1261,0\\n370,1262,0\\n371,1263,1\\n372,1264,0\\n373,1265,0\\n374,1266,1\\n375,1267,1\\n376,1268,0\\n377,1269,0\\n378,1270,0\\n379,1271,0\\n380,1272,0\\n381,1273,0\\n382,1274,0\\n383,1275,0\\n384,1276,0\\n385,1277,1\\n386,1278,0\\n387,1279,0\\n388,1280,0\\n389,1281,0\\n390,1282,1\\n391,1283,1\\n392,1284,0\\n393,1285,0\\n394,1286,0\\n395,1287,1\\n396,1288,0\\n397,1289,1\\n398,1290,0\\n399,1291,0\\n400,1292,1\\n401,1293,0\\n402,1294,1\\n403,1295,1\\n404,1296,1\\n405,1297,0\\n406,1298,0\\n407,1299,1\\n408,1300,0\\n409,1301,0\\n410,1302,0\\n411,1303,1\\n412,1304,0\\n413,1305,0\\n414,1306,1\\n415,1307,0\\n416,1308,0\\n417,1309,0\\n'"
      ]
     },
     "execution_count": 72,
     "metadata": {},
     "output_type": "execute_result"
    }
   ],
   "source": [
    "submission_csv"
   ]
  },
  {
   "cell_type": "code",
   "execution_count": null,
   "id": "b66eb2ad",
   "metadata": {},
   "outputs": [],
   "source": []
  }
 ],
 "metadata": {
  "kernelspec": {
   "display_name": "Python 3 (ipykernel)",
   "language": "python",
   "name": "python3"
  },
  "language_info": {
   "codemirror_mode": {
    "name": "ipython",
    "version": 3
   },
   "file_extension": ".py",
   "mimetype": "text/x-python",
   "name": "python",
   "nbconvert_exporter": "python",
   "pygments_lexer": "ipython3",
   "version": "3.8.8"
  }
 },
 "nbformat": 4,
 "nbformat_minor": 5
}
